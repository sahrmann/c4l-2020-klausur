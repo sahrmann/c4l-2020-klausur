{
 "cells": [
  {
   "cell_type": "markdown",
   "metadata": {},
   "source": [
    "# Einführung in die Programmierung - Abschlussklausur\n",
    "\n",
    "### 26.02.2020"
   ]
  },
  {
   "cell_type": "markdown",
   "metadata": {},
   "source": [
    "Die Kanzlei *Stark & Snow* aus Winterfell möchte für eine digitale Zukunft gerüstet sein und experimentiert daher mit verschiedenen technischen Lösungen."
   ]
  },
  {
   "cell_type": "markdown",
   "metadata": {},
   "source": [
    "Bearbeitungshinweise:\n",
    "\n",
    "- Sie können alle Aufgaben direkt in diesem Notebook in den dafür vorgesehenen Codezellen lösen.\n",
    "- Bitte stellen Sie sicher, dass der ihre Lösungen auch nach Neustart des Kernels funktionieren. Gehen Sie dazu vor Abgabe oben links auf `Kernel`, `Restart & Run All`, wiederholen Sie die erfolderlichen Eingaben und überprüfen Sie anschließend nochmals die Ausgaben.\n",
    "- Nach Ende der Bearbeitungszeit laden Sie das fertigt Notebook herunter, indem Sie oben links auf `File`, dann `Download as` und `Notebook (.ipynb)` klicken. Die Datei senden Sie bitte per E-Mail an programming@law-school.de und vergewissern sich vor verlassen des Raumes bei der Klausuraufsicht, dass die E-Mail eingetroffen ist. Für eine vorzeitige Abgabe wenden Sie sich an die Klausuraufsicht bevor Sie das E-Mail-Programm öffnen. In den letzten 15 Minuten der Bearbeitungszeit ist eine vorzeitige Abgabe nicht möglich.\n",
    "- Hilfsmittel:\n",
    "    - Sie können in der Klausur gedruckte Unterlagen mitbringen, auf Dateien auf ihrem Laptop zugreifen und das Internet nutzen. Insbesondere erlaubt und hilfreich ist das Nutzen von Suchmaschinen und Foren, das Durchsuchen und Lesen der Kursunterlagen inklusive dem Onlinekurs und der Python Dokumentation. \n",
    "    - Kommunikation ist während der Klausur nicht erlaubt, insbesondere Individualkommunikation (egal ob mit Teilnehmern oder nicht) und das Schreiben von Beiträgen, Kommentaren oder Antworten in Foren, Blogs, Wikis etc. Daher sind vor der Klausur Benachrichtigungen auf dem Laptop zu deaktivieren. Um Missverständnisse zu vermeiden, dürfen Programme und Webseiten zur Individualkommunikation (z.B. E-Mail-Programme, WhatsApp Web, Telegram, Facebook, etc.) nicht geöffnet werden. Möchten Sie beispielsweise eine E-Mail in der Klausur verfügbar haben, speicheren Sie die E-Mail vor Beginn der als PDF außerhalb des E-Mail-Programms. Es dürfen keine Dateien für andere freigegeben, an andere gesendet oder Empfangsmöglichkeiten bereitgehalten werden. Bluetooth und Ordnerfreigaben im Netzwerk (sofern vorhanden) sind daher zu deaktivieren.\n",
    "    - Neben einem Laptop dürfen keine Tablets, Smartphones, Smartwatches etc. verwendet werden.\n"
   ]
  },
  {
   "cell_type": "markdown",
   "metadata": {},
   "source": [
    "### Aufgabe 1\n",
    "\n",
    "Ein Praktikant hat einen einfachen Honorarrechner entwickelt, der den Nutzer nach der Anzahl der Arbeitsstunden fragt. Auf Basis des kanzleiüblichen Stundensatzes von 380 EUR soll das Programm dann das errechnete Honorar ausdrucken. Der Entwurf findet sich in der folgenden Codezelle. \n",
    "\n",
    "a) Testen Sie das Programm mit der Eingabe `10`. Erklären Sie, weshalb es zu dieser (unerwünschten) Ausgabe kommt.\n",
    "\n",
    "b) Korrigieren Sie den Fehler in der Codezelle."
   ]
  },
  {
   "cell_type": "markdown",
   "metadata": {},
   "source": [
    "Antwort zu a):"
   ]
  },
  {
   "cell_type": "markdown",
   "metadata": {},
   "source": [
    "> Der Rückgabewert der Funktion `input()` ist vom Typ `str`. Dieser Wert wird `stunden` zugewiesen. In `honorar = stunden * stundensatz` wird ein Objekt des Typs `str` mit einem Objekt des Typs `int` multipliziert. Eine Multiplikation von `str` und `int` wiederholt den Text. Gewünscht wäre nicht den Text zu wiederholen, sondern diesen als `int` oder `float` umzuwandeln und diese Zahl mit dem `stundensatz` zu multiplizieren. "
   ]
  },
  {
   "cell_type": "code",
   "execution_count": 1,
   "metadata": {},
   "outputs": [
    {
     "name": "stdout",
     "output_type": "stream",
     "text": [
      "Anzahl der Arbeitsstunden: 10\n",
      "3800\n"
     ]
    }
   ],
   "source": [
    "# Programm und Lösung zu b) (bitte im Code korrigieren):\n",
    "\n",
    "stunden = input(\"Anzahl der Arbeitsstunden: \")\n",
    "stundensatz = 380\n",
    "\n",
    "# Fehlerhafte Zeile\n",
    "# honorar = int(stunden) * stundensatz\n",
    "\n",
    "# Korrigierte Zeile\n",
    "honorar = int(stunden) * stundensatz\n",
    "# Ebenfalls wäre es möglich bereits zu einem früheren Zeitpunkt den `stundensatz` in ein `int` oder `float` umzuwandeln.\n",
    "\n",
    "print(honorar)"
   ]
  },
  {
   "cell_type": "markdown",
   "metadata": {},
   "source": [
    "### Aufgabe 2\n",
    "\n",
    "Mandanten mit einem kleinen Budget gelten als wenig lukrativ. Erstellen Sie ein Programm, das den Nutzer nach seinem Budget fragt. Ist dieses kleiner als 5000 EUR, soll das Programm die Meldung drucken `Leider haben wir momentan keine freien Kapazitäten.`. Ansonsten soll das Programm drucken `Herzlich willkommen, wir sind gleich für Sie da.`."
   ]
  },
  {
   "cell_type": "code",
   "execution_count": 4,
   "metadata": {},
   "outputs": [
    {
     "name": "stdout",
     "output_type": "stream",
     "text": [
      "Wie hoch ist ihr Budget? 5000\n",
      "Herzlich willkommen, wir sind gleich für Sie da.\n"
     ]
    }
   ],
   "source": [
    "budget = input('Wie hoch ist ihr Budget? ')\n",
    "if float(budget) < 5000:\n",
    "    print('Leider haben wir momentan keine freien Kapazitäten.')\n",
    "else:\n",
    "    print('Herzlich willkommen, wir sind gleich für Sie da.')"
   ]
  },
  {
   "cell_type": "markdown",
   "metadata": {},
   "source": [
    "### Aufgabe 3"
   ]
  },
  {
   "cell_type": "markdown",
   "metadata": {},
   "source": [
    "a) Erstellen Sie eine Liste, welche die Namen der Anwälte der Kanzlei jeweils als Text enthält, und speichern Sie die Liste in eine Variable mit dem Namen `anwaelte`. Die Anwälte sind: `Arya Stark`, `Jon Snow`, `Sansa Stark` und `Tyrion Lannister`."
   ]
  },
  {
   "cell_type": "code",
   "execution_count": 2,
   "metadata": {},
   "outputs": [],
   "source": [
    "# Lösung a)\n",
    "\n",
    "anwaelte = [\n",
    "    'Arya Stark',\n",
    "    'Jon Snow',\n",
    "    'Sansa Stark',\n",
    "    'Tyrion Lannister'\n",
    "]"
   ]
  },
  {
   "cell_type": "markdown",
   "metadata": {},
   "source": [
    "b) Schreiben Sie Code, der die Liste durchläuft und die Namen der Anwälte im folgenden Format ausdruckt. Die Zählung soll dabei automatisch erfolgen:\n",
    "\n",
    "```\n",
    "1) Arya Stark\n",
    "2) Jon Snow\n",
    "3) Sansa Stark\n",
    "4) Tyrion Lannister\n",
    "```"
   ]
  },
  {
   "cell_type": "code",
   "execution_count": 3,
   "metadata": {},
   "outputs": [
    {
     "name": "stdout",
     "output_type": "stream",
     "text": [
      "1) Arya Stark\n",
      "2) Jon Snow\n",
      "3) Sansa Stark\n",
      "4) Tyrion Lannister\n"
     ]
    }
   ],
   "source": [
    "# Lösung b) Alternative 1\n",
    "index = 1\n",
    "for anwalt in anwaelte:\n",
    "    print(f'{index}) {anwalt}')\n",
    "    index += 1"
   ]
  },
  {
   "cell_type": "code",
   "execution_count": 4,
   "metadata": {},
   "outputs": [
    {
     "name": "stdout",
     "output_type": "stream",
     "text": [
      "1) Arya Stark\n",
      "2) Jon Snow\n",
      "3) Sansa Stark\n",
      "4) Tyrion Lannister\n"
     ]
    }
   ],
   "source": [
    "# Lösung b) Alternative 2\n",
    "for index, anwalt in enumerate(anwaelte):\n",
    "    print(f'{index+1}) {anwalt}')"
   ]
  },
  {
   "cell_type": "markdown",
   "metadata": {},
   "source": [
    "c) Die Kanzlei möchte automatisch Kürzel der Anwälte erzeugen, die aus den ersten beiden Buchstaben des Vornamens und dem letzten Buchstaben des Nachnamens bestehen (alles in Großbuchstaben). Für `Arya Stark` wäre das Kürzel also `ARK`. Schreiben Sie Code, der aus einem beliebigen Namen in der Variable `name` ein solches Kürzel erzeugt und ausgibt."
   ]
  },
  {
   "cell_type": "code",
   "execution_count": 5,
   "metadata": {},
   "outputs": [
    {
     "name": "stdout",
     "output_type": "stream",
     "text": [
      "JOW\n"
     ]
    }
   ],
   "source": [
    "name = 'Jon Snow'\n",
    "\n",
    "# Lösung c)\n",
    "kuerzel = name[:2] + name[-1]\n",
    "# alternativ: kuerzel = name[0] + name[1] + name[-1]\n",
    "kuerzel = kuerzel.upper()\n",
    "print(kuerzel)"
   ]
  },
  {
   "cell_type": "markdown",
   "metadata": {},
   "source": [
    "d) Der folgende Programmentwurf eines anderen Praktikanten soll ein Dictionary speichern, welches jedem Anwalt seine Berufserfahrung in Jahren zuordnet. Abhängig von der Berufserfahrung soll dann der Stundensatz berechnet werden: Ausgehend von einem Basissatz von 250 EUR soll der Satz pro Jahr Berufserfahrung um 30 EUR erhöht werden. Das Programm soll die Stundensätze aller Anwälte nacheinander ausdrucken, das Ergebnis soll korrekterweise also wie folgt aussehen:\n",
    "\n",
    "```\n",
    "Arya Stark: 340 EUR\n",
    "Jon Snow: 250 EUR\n",
    "Sansa Stark: 310 EUR\n",
    "Tyrion Lannister: 400 EUR\n",
    "```\n",
    "\n",
    "Leider haben sich einige Fehler eingeschlichen. Korrigieren Sie diese, so dass das Programm das gewünschte Ergebnis liefert."
   ]
  },
  {
   "cell_type": "code",
   "execution_count": 6,
   "metadata": {},
   "outputs": [
    {
     "name": "stdout",
     "output_type": "stream",
     "text": [
      "Arya Stark: 340 EUR\n",
      "Jon Snow: 250 EUR\n",
      "Sansa Stark: 310 EUR\n",
      "Tyrion Lannister: 400 EUR\n"
     ]
    }
   ],
   "source": [
    "erfahrung = { # korrigiert\n",
    "    'Arya Stark': 3, # korrigiert\n",
    "    'Jon Snow': 0,\n",
    "    'Sansa Stark': 2, # korrigiert\n",
    "    'Tyrion Lannister': 5 # korrigiert\n",
    "} # korrigiert\n",
    "\n",
    "for anwalt in erfahrung: # korrigiert\n",
    "    stundensatz = 250 + erfahrung[anwalt] * 30 # korrigiert\n",
    "    print(f'{anwalt}: {stundensatz} EUR') # korrigiert"
   ]
  },
  {
   "cell_type": "markdown",
   "metadata": {},
   "source": [
    "### Aufgabe 4"
   ]
  },
  {
   "cell_type": "markdown",
   "metadata": {},
   "source": [
    "Das Zeiterfassungsprogramm der Kanzlei lässt sich nicht mehr starten und der Hersteller ist nicht erreichbar. Glücklicherweise existiert noch die Datendatei, in der alle Einträge abgelegt sind: Die Datei `daten.txt`. Jede Zeile steht dabei für einen Eintrag. Einige dringende Auswertungen müssen nun auf Basis dieser Datei vorgenommen werden."
   ]
  },
  {
   "cell_type": "markdown",
   "metadata": {},
   "source": [
    "a) Lesen Sie die Datei ein und speichern Sie eine Liste mit allen Zeilen in einer Variable `eintraege`."
   ]
  },
  {
   "cell_type": "code",
   "execution_count": 7,
   "metadata": {},
   "outputs": [],
   "source": [
    "f = open('daten.txt')\n",
    "inhalt = f.read()\n",
    "eintraege = inhalt.split('\\n')\n",
    "f.close()"
   ]
  },
  {
   "cell_type": "markdown",
   "metadata": {},
   "source": [
    "b) Schreiben Sie Code, der die Anzahl der Einträge ermittelt und ausgibt."
   ]
  },
  {
   "cell_type": "code",
   "execution_count": 10,
   "metadata": {},
   "outputs": [
    {
     "name": "stdout",
     "output_type": "stream",
     "text": [
      "1000\n"
     ]
    }
   ],
   "source": [
    "print(len(eintraege))"
   ]
  },
  {
   "cell_type": "markdown",
   "metadata": {},
   "source": [
    "c) Die Variable `eintrag` in der folgenden Codezelle enthält eine Zeile aus der Datei. Schreiben Sie Code, der \n",
    "\n",
    "- aus dieser Zeile die Stundenzahl als Zahl extrahiert und in einer Variable `stunden` speichert,\n",
    "- das Datum extrahiert und in einer Variable `datum` speichert,\n",
    "- den Anwalt extrahiert und in einer Variable `anwalt` speichert."
   ]
  },
  {
   "cell_type": "code",
   "execution_count": 12,
   "metadata": {},
   "outputs": [
    {
     "name": "stdout",
     "output_type": "stream",
     "text": [
      "8 2018-02-20 Jon Snow\n"
     ]
    }
   ],
   "source": [
    "eintrag = 'Jon Snow//2018-02-20//8h'\n",
    "\n",
    "stunden = int(eintrag.split('//')[2][:-1])\n",
    "datum = eintrag.split('//')[1]\n",
    "anwalt = eintrag.split('//')[0]\n",
    "\n",
    "print(stunden, datum, anwalt)"
   ]
  },
  {
   "cell_type": "markdown",
   "metadata": {},
   "source": [
    "d) Schreiben Sie Code, der den Nutzer nach Jahr und Monat fragt (der Nutzer gibt z.B. `2018-02` ein). Anschließend soll das Programm alle Einträge anzeigen, bei denen Jahr und Monat der Eingabe entsprechen."
   ]
  },
  {
   "cell_type": "code",
   "execution_count": 13,
   "metadata": {},
   "outputs": [
    {
     "name": "stdout",
     "output_type": "stream",
     "text": [
      "Bitte geben Sie einen Monat an?2018-02\n",
      "Sansa Stark//2018-02-19//3h\n",
      "Jon Snow//2018-02-06//3h\n",
      "Arya Stark//2018-02-27//7h\n",
      "Sansa Stark//2018-02-17//6h\n",
      "Tyrion Lannister//2018-02-02//6h\n",
      "Jon Snow//2018-02-09//5h\n",
      "Jon Snow//2018-02-19//8h\n",
      "Jon Snow//2018-02-20//5h\n",
      "Arya Stark//2018-02-03//8h\n",
      "Arya Stark//2018-02-23//2h\n",
      "Jon Snow//2018-02-13//1h\n",
      "Tyrion Lannister//2018-02-16//5h\n",
      "Arya Stark//2018-02-21//1h\n",
      "Jon Snow//2018-02-03//7h\n",
      "Tyrion Lannister//2018-02-25//2h\n",
      "Tyrion Lannister//2018-02-23//7h\n",
      "Arya Stark//2018-02-18//4h\n",
      "Jon Snow//2018-02-13//7h\n",
      "Sansa Stark//2018-02-09//5h\n",
      "Jon Snow//2018-02-13//1h\n",
      "Sansa Stark//2018-02-16//8h\n",
      "Tyrion Lannister//2018-02-09//1h\n",
      "Tyrion Lannister//2018-02-10//7h\n",
      "Arya Stark//2018-02-13//3h\n",
      "Jon Snow//2018-02-04//5h\n",
      "Sansa Stark//2018-02-07//7h\n",
      "Tyrion Lannister//2018-02-27//3h\n",
      "Tyrion Lannister//2018-02-09//5h\n",
      "Tyrion Lannister//2018-02-28//5h\n",
      "Arya Stark//2018-02-06//8h\n",
      "Arya Stark//2018-02-10//8h\n",
      "Jon Snow//2018-02-03//1h\n",
      "Sansa Stark//2018-02-04//6h\n",
      "Sansa Stark//2018-02-10//8h\n",
      "Sansa Stark//2018-02-08//7h\n",
      "Jon Snow//2018-02-19//7h\n",
      "Tyrion Lannister//2018-02-18//3h\n",
      "Tyrion Lannister//2018-02-02//1h\n"
     ]
    }
   ],
   "source": [
    "jahr_monat = input('Bitte geben Sie einen Monat an?')\n",
    "for eintrag in eintraege:    \n",
    "    datum = eintrag.split('//')[1]\n",
    "    \n",
    "    if datum.startswith(jahr_monat):\n",
    "        print(eintrag)"
   ]
  },
  {
   "cell_type": "markdown",
   "metadata": {},
   "source": [
    "e) Schreiben Sie Code, der den Anwalt mit den meisten insgesamt abgerechneten Stunden ausgibt."
   ]
  },
  {
   "cell_type": "code",
   "execution_count": 15,
   "metadata": {},
   "outputs": [
    {
     "name": "stdout",
     "output_type": "stream",
     "text": [
      "Jon Snow 1222\n"
     ]
    }
   ],
   "source": [
    "# Stunden pro Anwalt addieren\n",
    "\n",
    "anwalt_stunden = {}\n",
    "\n",
    "for eintrag in eintraege:\n",
    "    stunden = int(eintrag.split('//')[2][:-1])\n",
    "    anwalt = eintrag.split('//')[0]\n",
    "    \n",
    "    if anwalt not in anwalt_stunden:\n",
    "        anwalt_stunden[anwalt] = 0\n",
    "    \n",
    "    anwalt_stunden[anwalt] += stunden\n",
    "    \n",
    "# Anwalt mit maximalen Stunden ermitteln\n",
    "    \n",
    "max_stunden = 0\n",
    "\n",
    "for anwalt in anwalt_stunden:\n",
    "    if anwalt_stunden[anwalt] > max_stunden:\n",
    "        max_stunden = anwalt_stunden[anwalt]\n",
    "        anwalt_max_stunden = anwalt\n",
    "        \n",
    "print(anwalt_max_stunden, max_stunden)"
   ]
  },
  {
   "cell_type": "markdown",
   "metadata": {},
   "source": [
    "f) In Aufgabe 3 d) finden sich die Stundensätze der Anwälte. Erstellen Sie zunächst ein Dictionary, welches jedem Anwalt seinen Stundensatz zuordnet, und speichern Sie es in der Variablen `stundensaetze`. Schreiben Sie anschließend Code, der den Anwalt mit dem größten Gesamtumsatz ermittelt."
   ]
  },
  {
   "cell_type": "code",
   "execution_count": 16,
   "metadata": {},
   "outputs": [],
   "source": [
    "erfahrung = {\n",
    "    'Arya Stark': 3,\n",
    "    'Jon Snow': 0,\n",
    "    'Sansa Stark': 2,\n",
    "    'Tyrion Lannister': 5\n",
    "}\n",
    "\n",
    "stundensaetze = {}\n",
    "\n",
    "for anwalt in erfahrung:\n",
    "    stundensatz = 250 + erfahrung[anwalt] * 30\n",
    "    stundensaetze[anwalt] = stundensatz\n",
    "    \n",
    "# alternativ auch direkt das Dictionary mit den stundensaetzen im Code formulieren"
   ]
  },
  {
   "cell_type": "code",
   "execution_count": 17,
   "metadata": {},
   "outputs": [
    {
     "name": "stdout",
     "output_type": "stream",
     "text": [
      "Tyrion Lannister 467200\n"
     ]
    }
   ],
   "source": [
    "max_gesamtumsatz = 0\n",
    "\n",
    "for anwalt in stundensaetze:\n",
    "    gesamtumsatz = stundensaetze[anwalt] * anwalt_stunden[anwalt]\n",
    "    if gesamtumsatz > max_gesamtumsatz:\n",
    "        max_gesamtumsatz = gesamtumsatz\n",
    "        anwalt_max_gesamtumsatz = anwalt\n",
    "\n",
    "print(anwalt_max_gesamtumsatz, max_gesamtumsatz)"
   ]
  }
 ],
 "metadata": {
    "kernelspec": {
      "name": "python36",
      "display_name": "Python 3.6",
      "language": "python"
    },
    "language_info": {
      "mimetype": "text/x-python",
      "nbconvert_exporter": "python",
      "name": "python",
      "pygments_lexer": "ipython3",
      "version": "3.6.6",
      "file_extension": ".py",
      "codemirror_mode": {
        "version": 3,
        "name": "ipython"
      }
    }
  }, 
 "nbformat": 4,
 "nbformat_minor": 4
}
