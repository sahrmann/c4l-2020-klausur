{
 "cells": [
  {
   "cell_type": "markdown",
   "metadata": {},
   "source": [
    "# Einführung in die Programmierung - Abschlussklausur\n",
    "\n",
    "### 26.02.2020"
   ]
  },
  {
   "cell_type": "markdown",
   "metadata": {},
   "source": [
    "Die Kanzlei *Stark & Snow* aus Winterfell möchte für eine digitale Zukunft gerüstet sein und experimentiert daher mit verschiedenen technischen Lösungen."
   ]
  },
  {
   "cell_type": "markdown",
   "metadata": {},
   "source": [
    "Bearbeitungshinweise:\n",
    "\n",
    "- Sie können alle Aufgaben direkt in diesem Notebook in den dafür vorgesehenen Codezellen lösen.\n",
    "- Bitte stellen Sie sicher, dass der ihre Lösungen auch nach Neustart des Kernels funktionieren. Gehen Sie dazu vor Abgabe oben links auf `Kernel`, `Restart & Run All`, wiederholen Sie die erfolderlichen Eingaben und überprüfen Sie anschließend nochmals die Ausgaben.\n",
    "- Nach Ende der Bearbeitungszeit laden Sie das fertige Notebook herunter, indem Sie oben links auf `File`, dann `Download as` und `Notebook (.ipynb)` klicken. Die Datei senden Sie bitte per E-Mail an programming@law-school.de und vergewissern sich vor verlassen des Raumes bei der Klausuraufsicht, dass die E-Mail eingetroffen ist. Für eine vorzeitige Abgabe wenden Sie sich an die Klausuraufsicht bevor Sie das E-Mail-Programm öffnen. In den letzten 15 Minuten der Bearbeitungszeit ist eine vorzeitige Abgabe nicht möglich.\n",
    "- Hilfsmittel:\n",
    "    - Sie können in der Klausur gedruckte Unterlagen mitbringen, auf Dateien auf Ihrem Laptop zugreifen und das Internet nutzen. Insbesondere erlaubt und hilfreich ist das Nutzen von Suchmaschinen und Foren, das Durchsuchen und Lesen der Kursunterlagen inklusive dem Onlinekurs und der Python Dokumentation. \n",
    "    - Kommunikation ist während der Klausur nicht erlaubt, insbesondere Individualkommunikation (egal ob mit Teilnehmern oder nicht) und das Schreiben von Beiträgen, Kommentaren oder Antworten in Foren, Blogs, Wikis etc. Daher sind vor der Klausur Benachrichtigungen auf dem Laptop zu deaktivieren. Um Missverständnisse zu vermeiden, dürfen Programme und Webseiten zur Individualkommunikation (z.B. E-Mail-Programme, WhatsApp Web, Telegram, Facebook, etc.) nicht geöffnet werden. Möchten Sie beispielsweise eine E-Mail in der Klausur verfügbar haben, speicheren Sie die E-Mail vor Beginn der als PDF außerhalb des E-Mail-Programms. Es dürfen keine Dateien für andere freigegeben, an andere gesendet oder Empfangsmöglichkeiten bereitgehalten werden. Bluetooth und Ordnerfreigaben im Netzwerk (sofern vorhanden) sind daher zu deaktivieren.\n",
    "    - Neben einem Laptop dürfen keine Tablets, Smartphones, Smartwatches etc. verwendet werden.\n"
   ]
  },
  {
   "cell_type": "markdown",
   "metadata": {},
   "source": [
    "### Aufgabe 1\n",
    "\n",
    "Ein Praktikant hat einen einfachen Honorarrechner entwickelt, der den Nutzer nach der Anzahl der Arbeitsstunden fragt. Auf Basis des kanzleiüblichen Stundensatzes von 380 EUR soll das Programm dann das errechnete Honorar ausdrucken. Der Entwurf findet sich in der folgenden Codezelle. \n",
    "\n",
    "a) Testen Sie das Programm mit der Eingabe `10`. Erklären Sie, weshalb es zu dieser (unerwünschten) Ausgabe kommt.\n",
    "\n",
    "b) Korrigieren Sie den Fehler in der Codezelle."
   ]
  },
  {
   "cell_type": "markdown",
   "metadata": {},
   "source": [
    "Antwort zu a):"
   ]
  },
  {
   "cell_type": "markdown",
   "metadata": {},
   "source": []
  },
  {
   "cell_type": "code",
   "execution_count": null,
   "metadata": {},
   "outputs": [],
   "source": [
    "# Programm und Lösung zu b) (bitte im Code korrigieren):\n",
    "\n",
    "stunden = input(\"Anzahl der Arbeitsstunden:\")\n",
    "stundensatz = 380\n",
    "\n",
    "honorar = stunden * stundensatz\n",
    "print(honorar)"
   ]
  },
  {
   "cell_type": "markdown",
   "metadata": {},
   "source": [
    "### Aufgabe 2\n",
    "\n",
    "Mandanten mit einem kleinen Budget gelten als wenig lukrativ. Erstellen Sie ein Programm, das den Nutzer nach seinem Budget fragt. Ist dieses kleiner als 5000 EUR, soll das Programm die Meldung drucken `Leider haben wir momentan keine freien Kapazitäten.`. Ansonsten soll das Programm drucken `Herzlich willkommen, wir sind gleich für Sie da.`."
   ]
  },
  {
   "cell_type": "code",
   "execution_count": null,
   "metadata": {},
   "outputs": [],
   "source": []
  },
  {
   "cell_type": "markdown",
   "metadata": {},
   "source": [
    "### Aufgabe 3"
   ]
  },
  {
   "cell_type": "markdown",
   "metadata": {},
   "source": [
    "a) Erstellen Sie eine Liste, welche die Namen der Anwälte der Kanzlei jeweils als Text enthält, und speichern Sie die Liste in eine Variable mit dem Namen `anwaelte`. Die Anwälte sind: `Arya Stark`, `Jon Snow`, `Sansa Stark` und `Tyrion Lannister`."
   ]
  },
  {
   "cell_type": "code",
   "execution_count": null,
   "metadata": {},
   "outputs": [],
   "source": [
    "# Lösung a)\n"
   ]
  },
  {
   "cell_type": "markdown",
   "metadata": {},
   "source": [
    "b) Schreiben Sie Code, der die Liste durchläuft und die Namen der Anwälte im folgenden Format ausdruckt. Die Zählung soll dabei automatisch erfolgen:\n",
    "\n",
    "```\n",
    "1) Arya Stark\n",
    "2) Jon Snow\n",
    "3) Sansa Stark\n",
    "4) Tyrion Lannister\n",
    "```"
   ]
  },
  {
   "cell_type": "code",
   "execution_count": null,
   "metadata": {},
   "outputs": [],
   "source": [
    "# Lösung b)\n"
   ]
  },
  {
   "cell_type": "markdown",
   "metadata": {},
   "source": [
    "c) Die Kanzlei möchte automatisch Kürzel der Anwälte erzeugen, die aus den ersten beiden Buchstaben des Vornamens und dem letzten Buchstaben des Nachnamens bestehen (alles in Großbuchstaben). Für `Arya Stark` wäre das Kürzel also `ARK`. Schreiben Sie Code, der aus einem beliebigen Namen in der Variable `name` ein solches Kürzel erzeugt und ausgibt."
   ]
  },
  {
   "cell_type": "code",
   "execution_count": null,
   "metadata": {},
   "outputs": [],
   "source": [
    "name = 'Jon Snow'\n",
    "\n",
    "# Lösung c)\n"
   ]
  },
  {
   "cell_type": "markdown",
   "metadata": {},
   "source": [
    "d) Der folgende Programmentwurf eines anderen Praktikanten soll ein Dictionary speichern, welches jedem Anwalt seine Berufserfahrung in Jahren zuordnet. Abhängig von der Berufserfahrung soll dann der Stundensatz berechnet werden: Ausgehend von einem Basissatz von 250 EUR soll der Satz pro Jahr Berufserfahrung um 30 EUR erhöht werden. Das Programm soll die Stundensätze aller Anwälte nacheinander ausdrucken, das Ergebnis soll korrekterweise also wie folgt aussehen:\n",
    "\n",
    "```\n",
    "Arya Stark: 340 EUR\n",
    "Jon Snow: 250 EUR\n",
    "Sansa Stark: 310 EUR\n",
    "Tyrion Lannister: 400 EUR\n",
    "```\n",
    "\n",
    "Leider haben sich einige Fehler eingeschlichen. Korrigieren Sie diese, so dass das Programm das gewünschte Ergebnis liefert."
   ]
  },
  {
   "cell_type": "code",
   "execution_count": null,
   "metadata": {},
   "outputs": [],
   "source": [
    "erfahrung = [\n",
    "    'Arya Stark\": 3,\n",
    "    'Jon Snow': 0,\n",
    "    'Sansa Stark'; 2,\n",
    "    'Tyrion Lannister': '5'\n",
    "]\n",
    "\n",
    "forr element in erfahrung\n",
    "    stundensatz = erfahrung[anwalt] * 30\n",
    "    print('{anwalt}: {stundensatz} EUR')"
   ]
  },
  {
   "cell_type": "markdown",
   "metadata": {},
   "source": [
    "### Aufgabe 4"
   ]
  },
  {
   "cell_type": "markdown",
   "metadata": {},
   "source": [
    "Das Zeiterfassungsprogramm der Kanzlei lässt sich nicht mehr starten und der Hersteller ist nicht erreichbar. Glücklicherweise existiert noch die Datendatei, in der alle Einträge abgelegt sind: Die Datei `daten.txt`. Jede Zeile steht dabei für einen Eintrag. Einige dringende Auswertungen müssen nun auf Basis dieser Datei vorgenommen werden."
   ]
  },
  {
   "cell_type": "markdown",
   "metadata": {},
   "source": [
    "a) Lesen Sie die Datei ein und speichern Sie eine Liste mit allen Zeilen in einer Variable `eintraege`."
   ]
  },
  {
   "cell_type": "code",
   "execution_count": null,
   "metadata": {},
   "outputs": [],
   "source": []
  },
  {
   "cell_type": "markdown",
   "metadata": {},
   "source": [
    "b) Schreiben Sie Code, der die Anzahl der Einträge ermittelt und ausgibt."
   ]
  },
  {
   "cell_type": "code",
   "execution_count": null,
   "metadata": {},
   "outputs": [],
   "source": []
  },
  {
   "cell_type": "markdown",
   "metadata": {},
   "source": [
    "c) Die Variable `eintrag` in der folgenden Codezelle enthält eine Zeile aus der Datei. Schreiben Sie Code, der \n",
    "\n",
    "- aus dieser Zeile die Stundenzahl als Zahl extrahiert und in einer Variable `stunden` speichert,\n",
    "- das Datum extrahiert und in einer Variable `datum` speichert,\n",
    "- den Anwalt extrahiert und in einer Variable `anwalt` speichert."
   ]
  },
  {
   "cell_type": "code",
   "execution_count": null,
   "metadata": {},
   "outputs": [],
   "source": [
    "eintrag = 'Jon Snow//2018-02-20//8h'"
   ]
  },
  {
   "cell_type": "markdown",
   "metadata": {},
   "source": [
    "d) Schreiben Sie Code, der den Nutzer nach Jahr und Monat fragt (der Nutzer gibt z.B. `2018-02` ein). Anschließend soll das Programm alle Einträge anzeigen, bei denen Jahr und Monat der Eingabe entsprechen."
   ]
  },
  {
   "cell_type": "code",
   "execution_count": null,
   "metadata": {},
   "outputs": [],
   "source": []
  },
  {
   "cell_type": "markdown",
   "metadata": {},
   "source": [
    "e) Schreiben Sie Code, der den Anwalt mit den meisten insgesamt abgerechneten Stunden ausgibt."
   ]
  },
  {
   "cell_type": "code",
   "execution_count": null,
   "metadata": {},
   "outputs": [],
   "source": []
  },
  {
   "cell_type": "markdown",
   "metadata": {},
   "source": [
    "f) In Aufgabe 3 d) finden sich die Stundensätze der Anwälte. Erstellen Sie zunächst ein Dictionary, welches jedem Anwalt seinen Stundensatz zuordnet, und speichern Sie es in der Variablen `stundensaetze`. Schreiben Sie anschließend Code, der den Anwalt mit dem größten Gesamtumsatz ermittelt."
   ]
  },
  {
   "cell_type": "code",
   "execution_count": null,
   "metadata": {},
   "outputs": [],
   "source": []
  }
 ],
 "metadata": {
    "kernelspec": {
      "name": "python36",
      "display_name": "Python 3.6",
      "language": "python"
    },
    "language_info": {
      "mimetype": "text/x-python",
      "nbconvert_exporter": "python",
      "name": "python",
      "pygments_lexer": "ipython3",
      "version": "3.6.6",
      "file_extension": ".py",
      "codemirror_mode": {
        "version": 3,
        "name": "ipython"
      }
    }
  },
 "nbformat": 4,
 "nbformat_minor": 4
}
